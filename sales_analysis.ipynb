{
 "cells": [
  {
   "cell_type": "code",
   "execution_count": null,
   "id": "a595abf9-c741-4d85-b03a-76f837818a7d",
   "metadata": {},
   "outputs": [],
   "source": [
    "%matplotlib inline\n",
    "import pandas as pd\n",
    "import matplotlib.pyplot as plt\n",
    "\n",
    "# Load data\n",
    "data = pd.read_excel(r\"C:\\Users\\PC\\Desktop\\sales.xlsx\")\n",
    "data = data.head()\n",
    "\n",
    "# Total Revenue\n",
    "total_revenue = data['Total Price'].sum()\n",
    "print(\"Total Revenue:\", total_revenue)\n",
    "\n",
    "# Create subplots\n",
    "fig, ax = plt.subplots(1, 2, figsize=(12, 5))\n",
    "\n",
    "# --- Bar Chart: Revenue by Product ---\n",
    "top_pro = data.groupby('Product')['Total Price'].sum().sort_values(ascending=False)\n",
    "print(top_pro)\n",
    "top_pro.plot(kind='bar', ax=ax[0], color='grey')\n",
    "ax[0].set_title(\"Revenue by Product\")\n",
    "ax[0].set_ylabel(\"Revenue\")\n",
    "ax[0].set_xlabel(\"Product\")\n",
    "\n",
    "# --- Pie Chart: Revenue by Region ---\n",
    "region_revenue = data.groupby('Region')['Total Price'].sum()\n",
    "region_revenue.plot(kind='pie', ax=ax[1], autopct='%1.1f%%')  # 👈 Add ax=ax[1]\n",
    "ax[1].set_title(\"Revenue by Region\")\n",
    "ax[1].set_ylabel(\"\")\n",
    "\n",
    "# Show both charts together\n",
    "plt.tight_layout()\n",
    "plt.show()\n"
   ]
  },
  {
   "cell_type": "code",
   "execution_count": null,
   "id": "c5ee471f-0c00-4faa-902c-e68859c7bf0f",
   "metadata": {},
   "outputs": [],
   "source": []
  },
  {
   "cell_type": "code",
   "execution_count": null,
   "id": "335ee028-e820-4328-a9c6-8934ec5674f8",
   "metadata": {},
   "outputs": [],
   "source": []
  },
  {
   "cell_type": "code",
   "execution_count": null,
   "id": "d43dec36-764e-4416-b594-921479dda777",
   "metadata": {},
   "outputs": [],
   "source": []
  },
  {
   "cell_type": "code",
   "execution_count": null,
   "id": "89e75782-83b9-4691-84e9-9f0e6b746ddf",
   "metadata": {},
   "outputs": [],
   "source": []
  }
 ],
 "metadata": {
  "kernelspec": {
   "display_name": "Python 3 (ipykernel)",
   "language": "python",
   "name": "python3"
  },
  "language_info": {
   "codemirror_mode": {
    "name": "ipython",
    "version": 3
   },
   "file_extension": ".py",
   "mimetype": "text/x-python",
   "name": "python",
   "nbconvert_exporter": "python",
   "pygments_lexer": "ipython3",
   "version": "3.10.0"
  }
 },
 "nbformat": 4,
 "nbformat_minor": 5
}
